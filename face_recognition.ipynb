{
  "nbformat": 4,
  "nbformat_minor": 0,
  "metadata": {
    "colab": {
      "name": "face_recognition",
      "provenance": [],
      "collapsed_sections": [
        "4rZLuXFi5O3n",
        "w56KUwCSmhS2",
        "mOcUDTH2W7C3"
      ],
      "toc_visible": true,
      "include_colab_link": true
    },
    "kernelspec": {
      "name": "python3",
      "display_name": "Python 3"
    },
    "accelerator": "GPU"
  },
  "cells": [
    {
      "cell_type": "markdown",
      "metadata": {
        "id": "view-in-github",
        "colab_type": "text"
      },
      "source": [
        "<a href=\"https://colab.research.google.com/github/amaury-jaspar/script-wally-ml/blob/master/face_recognition.ipynb\" target=\"_parent\"><img src=\"https://colab.research.google.com/assets/colab-badge.svg\" alt=\"Open In Colab\"/></a>"
      ]
    },
    {
      "cell_type": "markdown",
      "metadata": {
        "id": "sLqnWTNqlzBK",
        "colab_type": "text"
      },
      "source": [
        "# **Reconnaissance faciale des personnages du livre *Où est Charlie***"
      ]
    },
    {
      "cell_type": "markdown",
      "metadata": {
        "id": "afIjwIg4sNts",
        "colab_type": "text"
      },
      "source": [
        "Le modèle créée dans ce document distingue les visages des \"non visages\" dans le livre *Où est Charlie*"
      ]
    },
    {
      "cell_type": "markdown",
      "metadata": {
        "id": "078IOO8ntgzS",
        "colab_type": "text"
      },
      "source": [
        "## **Auteurs**\n",
        "\n",
        "\n",
        "\n",
        "*   Amaury JASPAR\n",
        "*   Dorian GERARDIN \n",
        "*   Jean SIMONDON\n",
        "*   Mathieu LAGNY\n",
        "\n",
        "## **Références**\n",
        "\n",
        "\n",
        "\n",
        "*   https://www.tensorflow.org/tutorials/load_data/images\n",
        "*   https://www.tensorflow.org/tutorials/images/classification\n",
        "\n",
        "\n",
        "\n"
      ]
    },
    {
      "cell_type": "markdown",
      "metadata": {
        "id": "4rZLuXFi5O3n",
        "colab_type": "text"
      },
      "source": [
        "## **LICENSE : APACHE-2.0**"
      ]
    },
    {
      "cell_type": "markdown",
      "metadata": {
        "id": "_o_yucbn5lk0",
        "colab_type": "text"
      },
      "source": [
        "Apache License\n",
        "                           Version 2.0, January 2004\n",
        "                        http://www.apache.org/licenses/\n",
        "\n",
        "   TERMS AND CONDITIONS FOR USE, REPRODUCTION, AND DISTRIBUTION\n",
        "\n",
        "   1. Definitions.\n",
        "\n",
        "      \"License\" shall mean the terms and conditions for use, reproduction,\n",
        "      and distribution as defined by Sections 1 through 9 of this document.\n",
        "\n",
        "      \"Licensor\" shall mean the copyright owner or entity authorized by\n",
        "      the copyright owner that is granting the License.\n",
        "\n",
        "      \"Legal Entity\" shall mean the union of the acting entity and all\n",
        "      other entities that control, are controlled by, or are under common\n",
        "      control with that entity. For the purposes of this definition,\n",
        "      \"control\" means (i) the power, direct or indirect, to cause the\n",
        "      direction or management of such entity, whether by contract or\n",
        "      otherwise, or (ii) ownership of fifty percent (50%) or more of the\n",
        "      outstanding shares, or (iii) beneficial ownership of such entity.\n",
        "\n",
        "      \"You\" (or \"Your\") shall mean an individual or Legal Entity\n",
        "      exercising permissions granted by this License.\n",
        "\n",
        "      \"Source\" form shall mean the preferred form for making modifications,\n",
        "      including but not limited to software source code, documentation\n",
        "      source, and configuration files.\n",
        "\n",
        "      \"Object\" form shall mean any form resulting from mechanical\n",
        "      transformation or translation of a Source form, including but\n",
        "      not limited to compiled object code, generated documentation,\n",
        "      and conversions to other media types.\n",
        "\n",
        "      \"Work\" shall mean the work of authorship, whether in Source or\n",
        "      Object form, made available under the License, as indicated by a\n",
        "      copyright notice that is included in or attached to the work\n",
        "      (an example is provided in the Appendix below).\n",
        "\n",
        "      \"Derivative Works\" shall mean any work, whether in Source or Object\n",
        "      form, that is based on (or derived from) the Work and for which the\n",
        "      editorial revisions, annotations, elaborations, or other modifications\n",
        "      represent, as a whole, an original work of authorship. For the purposes\n",
        "      of this License, Derivative Works shall not include works that remain\n",
        "      separable from, or merely link (or bind by name) to the interfaces of,\n",
        "      the Work and Derivative Works thereof.\n",
        "\n",
        "      \"Contribution\" shall mean any work of authorship, including\n",
        "      the original version of the Work and any modifications or additions\n",
        "      to that Work or Derivative Works thereof, that is intentionally\n",
        "      submitted to Licensor for inclusion in the Work by the copyright owner\n",
        "      or by an individual or Legal Entity authorized to submit on behalf of\n",
        "      the copyright owner. For the purposes of this definition, \"submitted\"\n",
        "      means any form of electronic, verbal, or written communication sent\n",
        "      to the Licensor or its representatives, including but not limited to\n",
        "      communication on electronic mailing lists, source code control systems,\n",
        "      and issue tracking systems that are managed by, or on behalf of, the\n",
        "      Licensor for the purpose of discussing and improving the Work, but\n",
        "      excluding communication that is conspicuously marked or otherwise\n",
        "      designated in writing by the copyright owner as \"Not a Contribution.\"\n",
        "\n",
        "      \"Contributor\" shall mean Licensor and any individual or Legal Entity\n",
        "      on behalf of whom a Contribution has been received by Licensor and\n",
        "      subsequently incorporated within the Work.\n",
        "\n",
        "   2. Grant of Copyright License. Subject to the terms and conditions of\n",
        "      this License, each Contributor hereby grants to You a perpetual,\n",
        "      worldwide, non-exclusive, no-charge, royalty-free, irrevocable\n",
        "      copyright license to reproduce, prepare Derivative Works of,\n",
        "      publicly display, publicly perform, sublicense, and distribute the\n",
        "      Work and such Derivative Works in Source or Object form.\n",
        "\n",
        "   3. Grant of Patent License. Subject to the terms and conditions of\n",
        "      this License, each Contributor hereby grants to You a perpetual,\n",
        "      worldwide, non-exclusive, no-charge, royalty-free, irrevocable\n",
        "      (except as stated in this section) patent license to make, have made,\n",
        "      use, offer to sell, sell, import, and otherwise transfer the Work,\n",
        "      where such license applies only to those patent claims licensable\n",
        "      by such Contributor that are necessarily infringed by their\n",
        "      Contribution(s) alone or by combination of their Contribution(s)\n",
        "      with the Work to which such Contribution(s) was submitted. If You\n",
        "      institute patent litigation against any entity (including a\n",
        "      cross-claim or counterclaim in a lawsuit) alleging that the Work\n",
        "      or a Contribution incorporated within the Work constitutes direct\n",
        "      or contributory patent infringement, then any patent licenses\n",
        "      granted to You under this License for that Work shall terminate\n",
        "      as of the date such litigation is filed.\n",
        "\n",
        "   4. Redistribution. You may reproduce and distribute copies of the\n",
        "      Work or Derivative Works thereof in any medium, with or without\n",
        "      modifications, and in Source or Object form, provided that You\n",
        "      meet the following conditions:\n",
        "\n",
        "      (a) You must give any other recipients of the Work or\n",
        "          Derivative Works a copy of this License; and\n",
        "\n",
        "      (b) You must cause any modified files to carry prominent notices\n",
        "          stating that You changed the files; and\n",
        "\n",
        "      (c) You must retain, in the Source form of any Derivative Works\n",
        "          that You distribute, all copyright, patent, trademark, and\n",
        "          attribution notices from the Source form of the Work,\n",
        "          excluding those notices that do not pertain to any part of\n",
        "          the Derivative Works; and\n",
        "\n",
        "      (d) If the Work includes a \"NOTICE\" text file as part of its\n",
        "          distribution, then any Derivative Works that You distribute must\n",
        "          include a readable copy of the attribution notices contained\n",
        "          within such NOTICE file, excluding those notices that do not\n",
        "          pertain to any part of the Derivative Works, in at least one\n",
        "          of the following places: within a NOTICE text file distributed\n",
        "          as part of the Derivative Works; within the Source form or\n",
        "          documentation, if provided along with the Derivative Works; or,\n",
        "          within a display generated by the Derivative Works, if and\n",
        "          wherever such third-party notices normally appear. The contents\n",
        "          of the NOTICE file are for informational purposes only and\n",
        "          do not modify the License. You may add Your own attribution\n",
        "          notices within Derivative Works that You distribute, alongside\n",
        "          or as an addendum to the NOTICE text from the Work, provided\n",
        "          that such additional attribution notices cannot be construed\n",
        "          as modifying the License.\n",
        "\n",
        "      You may add Your own copyright statement to Your modifications and\n",
        "      may provide additional or different license terms and conditions\n",
        "      for use, reproduction, or distribution of Your modifications, or\n",
        "      for any such Derivative Works as a whole, provided Your use,\n",
        "      reproduction, and distribution of the Work otherwise complies with\n",
        "      the conditions stated in this License.\n",
        "\n",
        "   5. Submission of Contributions. Unless You explicitly state otherwise,\n",
        "      any Contribution intentionally submitted for inclusion in the Work\n",
        "      by You to the Licensor shall be under the terms and conditions of\n",
        "      this License, without any additional terms or conditions.\n",
        "      Notwithstanding the above, nothing herein shall supersede or modify\n",
        "      the terms of any separate license agreement you may have executed\n",
        "      with Licensor regarding such Contributions.\n",
        "\n",
        "   6. Trademarks. This License does not grant permission to use the trade\n",
        "      names, trademarks, service marks, or product names of the Licensor,\n",
        "      except as required for reasonable and customary use in describing the\n",
        "      origin of the Work and reproducing the content of the NOTICE file.\n",
        "\n",
        "   7. Disclaimer of Warranty. Unless required by applicable law or\n",
        "      agreed to in writing, Licensor provides the Work (and each\n",
        "      Contributor provides its Contributions) on an \"AS IS\" BASIS,\n",
        "      WITHOUT WARRANTIES OR CONDITIONS OF ANY KIND, either express or\n",
        "      implied, including, without limitation, any warranties or conditions\n",
        "      of TITLE, NON-INFRINGEMENT, MERCHANTABILITY, or FITNESS FOR A\n",
        "      PARTICULAR PURPOSE. You are solely responsible for determining the\n",
        "      appropriateness of using or redistributing the Work and assume any\n",
        "      risks associated with Your exercise of permissions under this License.\n",
        "\n",
        "   8. Limitation of Liability. In no event and under no legal theory,\n",
        "      whether in tort (including negligence), contract, or otherwise,\n",
        "      unless required by applicable law (such as deliberate and grossly\n",
        "      negligent acts) or agreed to in writing, shall any Contributor be\n",
        "      liable to You for damages, including any direct, indirect, special,\n",
        "      incidental, or consequential damages of any character arising as a\n",
        "      result of this License or out of the use or inability to use the\n",
        "      Work (including but not limited to damages for loss of goodwill,\n",
        "      work stoppage, computer failure or malfunction, or any and all\n",
        "      other commercial damages or losses), even if such Contributor\n",
        "      has been advised of the possibility of such damages.\n",
        "\n",
        "   9. Accepting Warranty or Additional Liability. While redistributing\n",
        "      the Work or Derivative Works thereof, You may choose to offer,\n",
        "      and charge a fee for, acceptance of support, warranty, indemnity,\n",
        "      or other liability obligations and/or rights consistent with this\n",
        "      License. However, in accepting such obligations, You may act only\n",
        "      on Your own behalf and on Your sole responsibility, not on behalf\n",
        "      of any other Contributor, and only if You agree to indemnify,\n",
        "      defend, and hold each Contributor harmless for any liability\n",
        "      incurred by, or claims asserted against, such Contributor by reason\n",
        "      of your accepting any such warranty or additional liability.\n",
        "\n",
        "   END OF TERMS AND CONDITIONS\n",
        "\n",
        "   APPENDIX: How to apply the Apache License to your work.\n",
        "\n",
        "      To apply the Apache License to your work, attach the following\n",
        "      boilerplate notice, with the fields enclosed by brackets \"[]\"\n",
        "      replaced with your own identifying information. (Don't include\n",
        "      the brackets!)  The text should be enclosed in the appropriate\n",
        "      comment syntax for the file format. We also recommend that a\n",
        "      file or class name and description of purpose be included on the\n",
        "      same \"printed page\" as the copyright notice for easier\n",
        "      identification within third-party archives.\n",
        "\n",
        "   Copyright [yyyy] [name of copyright owner]\n",
        "\n",
        "   Licensed under the Apache License, Version 2.0 (the \"License\");\n",
        "   you may not use this file except in compliance with the License.\n",
        "   You may obtain a copy of the License at\n",
        "\n",
        "       http://www.apache.org/licenses/LICENSE-2.0\n",
        "\n",
        "   Unless required by applicable law or agreed to in writing, software\n",
        "   distributed under the License is distributed on an \"AS IS\" BASIS,\n",
        "   WITHOUT WARRANTIES OR CONDITIONS OF ANY KIND, either express or implied.\n",
        "   See the License for the specific language governing permissions and\n",
        "   limitations under the License.\n"
      ]
    },
    {
      "cell_type": "markdown",
      "metadata": {
        "id": "pKInw1LwmIRq",
        "colab_type": "text"
      },
      "source": [
        "# Importation des librairies nécessaires"
      ]
    },
    {
      "cell_type": "code",
      "metadata": {
        "id": "kR7-V5CzkquA",
        "colab_type": "code",
        "outputId": "938d9318-3a14-49d2-de28-5fe173c2c4e1",
        "colab": {
          "base_uri": "https://localhost:8080/",
          "height": 34
        }
      },
      "source": [
        "from __future__ import absolute_import, division, print_function, unicode_literals\n",
        "\n",
        "try:\n",
        "  # %tensorflow_version only exists in Colab.\n",
        "  %tensorflow_version 2.x\n",
        "except Exception:\n",
        "  pass\n",
        "import tensorflow as tf\n",
        "\n",
        "from tensorflow.keras.models import Sequential\n",
        "from tensorflow.keras.layers import Dense, Conv2D, Flatten, Dropout, MaxPooling2D\n",
        "from tensorflow.keras.preprocessing.image import ImageDataGenerator\n",
        "\n",
        "import os\n",
        "import numpy as np\n",
        "import matplotlib.pyplot as plt\n",
        "import random\n",
        "import shutil"
      ],
      "execution_count": 0,
      "outputs": [
        {
          "output_type": "stream",
          "text": [
            "TensorFlow 2.x selected.\n"
          ],
          "name": "stdout"
        }
      ]
    },
    {
      "cell_type": "markdown",
      "metadata": {
        "id": "V8JrzcKAmah5",
        "colab_type": "text"
      },
      "source": [
        "# Importation des données"
      ]
    },
    {
      "cell_type": "markdown",
      "metadata": {
        "id": "KeAz6ZXwmeYR",
        "colab_type": "text"
      },
      "source": [
        "## Depuis une URL (Recommandé)"
      ]
    },
    {
      "cell_type": "code",
      "metadata": {
        "id": "g_H8a7KUmcWI",
        "colab_type": "code",
        "outputId": "74c0b887-4eb8-4543-d8e6-98409946bdf7",
        "colab": {
          "base_uri": "https://localhost:8080/",
          "height": 69
        }
      },
      "source": [
        "#Lien vers l'archive contenant les images d'entrainement\n",
        "_URL = 'https://nextcloud.piedsdechaise.eu/index.php/s/6ftkzL7Fe6nYfdo/download'\n",
        "\n",
        "path_to_zip = tf.keras.utils.get_file('data.zip', origin=_URL, extract=True)\n",
        "\n",
        "PATH = os.path.join(os.path.dirname(path_to_zip), 'data')\n",
        "\n",
        "print(\"Path to training and validation data : \" + PATH)"
      ],
      "execution_count": 0,
      "outputs": [
        {
          "output_type": "stream",
          "text": [
            "Downloading data from https://nextcloud.piedsdechaise.eu/index.php/s/6ftkzL7Fe6nYfdo/download\n",
            "58875904/58874620 [==============================] - 7s 0us/step\n",
            "Path to training and validation data : /root/.keras/datasets/data\n"
          ],
          "name": "stdout"
        }
      ]
    },
    {
      "cell_type": "markdown",
      "metadata": {
        "id": "w56KUwCSmhS2",
        "colab_type": "text"
      },
      "source": [
        "## OU Depuis un fichier local"
      ]
    },
    {
      "cell_type": "markdown",
      "metadata": {
        "id": "pF3Gp-0eml_S",
        "colab_type": "text"
      },
      "source": [
        "Dans ce cas le fichier ***data.zip*** doit être importé manuellement dans le dosier `/content` du colab"
      ]
    },
    {
      "cell_type": "code",
      "metadata": {
        "id": "CWwtpExymkh6",
        "colab_type": "code",
        "colab": {}
      },
      "source": [
        "zip_path = '/content/data.zip'\n",
        "\n",
        "!cp “{zip_path}” .\n",
        "\n",
        "!unzip -q data.zip\n",
        "\n",
        "!rm datas.zip"
      ],
      "execution_count": 0,
      "outputs": []
    },
    {
      "cell_type": "code",
      "metadata": {
        "id": "pxtlrdtBm5HK",
        "colab_type": "code",
        "colab": {}
      },
      "source": [
        "# PATH = os.path.join(os.path.dirname('data'), path_to_zip)\n",
        "print(PATH)"
      ],
      "execution_count": 0,
      "outputs": []
    },
    {
      "cell_type": "markdown",
      "metadata": {
        "id": "wtdpPt7Nm825",
        "colab_type": "text"
      },
      "source": [
        "## Définiton des répertoires de travail"
      ]
    },
    {
      "cell_type": "code",
      "metadata": {
        "id": "jL-qf7D7nAdS",
        "colab_type": "code",
        "colab": {}
      },
      "source": [
        "train_dir = os.path.join(PATH, 'train')\n",
        "validation_dir = os.path.join(PATH, 'validation')"
      ],
      "execution_count": 0,
      "outputs": []
    },
    {
      "cell_type": "code",
      "metadata": {
        "id": "d8QdlsvLnBeL",
        "colab_type": "code",
        "colab": {}
      },
      "source": [
        "train_face_dir = os.path.join(train_dir, 'face')  # répertoire contenant les visages pour le 'training'\n",
        "train_no_face_dir = os.path.join(train_dir, 'no_face')  # répertoire contenant les non-visages pour le 'training'\n",
        "validation_face_dir = os.path.join(validation_dir, 'face')  # répertoire contenant les visages pour le 'test'\n",
        "validation_no_face_dir = os.path.join(validation_dir, 'no_face')  # répertoire contenant les non-visages pour le 'test'"
      ],
      "execution_count": 0,
      "outputs": []
    },
    {
      "cell_type": "markdown",
      "metadata": {
        "id": "jUQdXPOfne-u",
        "colab_type": "text"
      },
      "source": [
        "# Préparation des données\n",
        "\n"
      ]
    },
    {
      "cell_type": "markdown",
      "metadata": {
        "id": "Q0kVbke66PMd",
        "colab_type": "text"
      },
      "source": [
        "## Séparation des données en Train et Validation (Si données non séparées dans l'archive préalable)"
      ]
    },
    {
      "cell_type": "code",
      "metadata": {
        "id": "Dx2Ys2_b63vt",
        "colab_type": "code",
        "colab": {}
      },
      "source": [
        "TRAIN = train_dir + '/'\n",
        "TEST = validation_dir + '/'"
      ],
      "execution_count": 0,
      "outputs": []
    },
    {
      "cell_type": "code",
      "metadata": {
        "id": "tGtPBKcl-fa5",
        "colab_type": "code",
        "outputId": "4dead009-5771-4d29-83ae-e51504150584",
        "colab": {
          "base_uri": "https://localhost:8080/",
          "height": 34
        }
      },
      "source": [
        "print(train_face_dir)"
      ],
      "execution_count": 0,
      "outputs": [
        {
          "output_type": "stream",
          "text": [
            "/root/.keras/datasets/data/train/face\n"
          ],
          "name": "stdout"
        }
      ]
    },
    {
      "cell_type": "code",
      "metadata": {
        "id": "tXVlbQ4J6kNl",
        "colab_type": "code",
        "colab": {}
      },
      "source": [
        "\"\"\"\n",
        "Retourne une liste de chemin vers les images du dossier TRAIN\n",
        "\"\"\"\n",
        "def label_files(path):\n",
        "    data_dir = os.listdir(path)\n",
        "    labeled_dict = []\n",
        "    for obj in data_dir:\n",
        "        labeled_dict.append(str(obj))\n",
        "    return labeled_dict\n",
        "\n",
        "\"\"\"\n",
        "Mélange la liste data n fois\n",
        "\"\"\"\n",
        "def shuffle_data(data, n):\n",
        "    for i in range(n):\n",
        "        random.shuffle(data)\n",
        "    return data"
      ],
      "execution_count": 0,
      "outputs": []
    },
    {
      "cell_type": "code",
      "metadata": {
        "id": "OIfK4tzQ6TVR",
        "colab_type": "code",
        "colab": {}
      },
      "source": [
        "\"\"\"\n",
        "Sépare les données en deux répertoires (TRAIN and TEST)\n",
        "\"\"\"\n",
        "def split(labels, proportion, shuffle=True, nb_shuffle=1):\n",
        "    \n",
        "    for lbl in labels:\n",
        "        data = label_files(os.path.join(os.path.dirname(TRAIN), lbl))\n",
        "        if (shuffle == True):\n",
        "            data = shuffle_data(data, nb_shuffle)\n",
        "        size = len(data)\n",
        "        #Checking if the proportion is the right type\n",
        "        if ( (type(proportion) == float) and (0. < proportion < 1.) ):\n",
        "            nb_test = proportion * size\n",
        "        elif ( (type(proportion) == int) and (proportion <= size) ):\n",
        "            nb_test = size\n",
        "        else:\n",
        "            print(\"Only int, and float types are accepted\")\n",
        "            raise TypeError\n",
        "        #Initializing loop counter and index history\n",
        "        file_count = 0\n",
        "        index_hist = [] #Stores the already picked index to avoid trying to remove theses items again\n",
        "        print(\"DATA : \", len(data))\n",
        "        while(file_count < nb_test):\n",
        "            size = len(data) #Data size decreases each turn\n",
        "            rd_index = random.randint(0,size-1) #Generates a random array index\n",
        "            if (rd_index not in index_hist):\n",
        "                index_hist.append(rd_index)\n",
        "                path = os.path.join(os.path.dirname(TRAIN), lbl)\n",
        "                path = os.path.join(path, data[rd_index])\n",
        "                shutil.move(path, os.path.join(os.path.dirname(TEST), lbl)) #Move files from TRAIN to TEST directory\n",
        "                del data[rd_index]\n",
        "                file_count += 1"
      ],
      "execution_count": 0,
      "outputs": []
    },
    {
      "cell_type": "code",
      "metadata": {
        "id": "HZPXtTG0-JkR",
        "colab_type": "code",
        "outputId": "26635805-40ac-4f92-cdb3-b9b17e690f5c",
        "colab": {
          "base_uri": "https://localhost:8080/",
          "height": 52
        }
      },
      "source": [
        "proportion = 0.33\n",
        "split(('face','no_face'), proportion, nb_shuffle=5)"
      ],
      "execution_count": 0,
      "outputs": [
        {
          "output_type": "stream",
          "text": [
            "DATA :  5615\n",
            "DATA :  5418\n"
          ],
          "name": "stdout"
        }
      ]
    },
    {
      "cell_type": "markdown",
      "metadata": {
        "id": "4Elel5pi6uKC",
        "colab_type": "text"
      },
      "source": [
        "## Définition des variables et des datasets"
      ]
    },
    {
      "cell_type": "code",
      "metadata": {
        "id": "xWsp5Uwhs9P5",
        "colab_type": "code",
        "colab": {}
      },
      "source": [
        "num_face_tr = len(os.listdir(train_face_dir))\n",
        "num_no_face_tr = len(os.listdir(train_no_face_dir))\n",
        "\n",
        "num_face_val = len(os.listdir(validation_face_dir))\n",
        "num_no_face_val = len(os.listdir(validation_no_face_dir))\n",
        "\n",
        "total_train = num_face_tr + num_no_face_tr\n",
        "total_val = num_face_val + num_no_face_val"
      ],
      "execution_count": 0,
      "outputs": []
    },
    {
      "cell_type": "code",
      "metadata": {
        "id": "aOtTYIGMnhYD",
        "colab_type": "code",
        "colab": {}
      },
      "source": [
        "batch_size = 128\n",
        "epochs = 8\n",
        "IMG_HEIGHT = 128\n",
        "IMG_WIDTH = 128"
      ],
      "execution_count": 0,
      "outputs": []
    },
    {
      "cell_type": "code",
      "metadata": {
        "id": "QYy6MBWNnnfa",
        "colab_type": "code",
        "colab": {}
      },
      "source": [
        "train_image_generator = ImageDataGenerator(rescale=1./255) # Generator for our training data\n",
        "validation_image_generator = ImageDataGenerator(rescale=1./255) # Generator for our validation data"
      ],
      "execution_count": 0,
      "outputs": []
    },
    {
      "cell_type": "code",
      "metadata": {
        "id": "Zu1QAKA_no69",
        "colab_type": "code",
        "outputId": "55ef5315-0e13-44b0-d67c-dd69d1cb19db",
        "colab": {
          "base_uri": "https://localhost:8080/",
          "height": 34
        }
      },
      "source": [
        "train_data_gen = train_image_generator.flow_from_directory(batch_size=batch_size,\n",
        "                                                           directory=train_dir,\n",
        "                                                           shuffle=True,\n",
        "                                                           target_size=(IMG_HEIGHT, IMG_WIDTH),\n",
        "                                                           class_mode='binary')"
      ],
      "execution_count": 0,
      "outputs": [
        {
          "output_type": "stream",
          "text": [
            "Found 7392 images belonging to 2 classes.\n"
          ],
          "name": "stdout"
        }
      ]
    },
    {
      "cell_type": "code",
      "metadata": {
        "id": "V3n_HcmBnpkN",
        "colab_type": "code",
        "outputId": "836e3622-ab73-4d36-cbca-91acaf922e04",
        "colab": {
          "base_uri": "https://localhost:8080/",
          "height": 34
        }
      },
      "source": [
        "val_data_gen = validation_image_generator.flow_from_directory(batch_size=batch_size,\n",
        "                                                              directory=validation_dir,\n",
        "                                                              target_size=(IMG_HEIGHT, IMG_WIDTH),\n",
        "                                                              class_mode='binary')"
      ],
      "execution_count": 0,
      "outputs": [
        {
          "output_type": "stream",
          "text": [
            "Found 3641 images belonging to 2 classes.\n"
          ],
          "name": "stdout"
        }
      ]
    },
    {
      "cell_type": "markdown",
      "metadata": {
        "id": "mOcUDTH2W7C3",
        "colab_type": "text"
      },
      "source": [
        "### (ESSAI) Séparation des données en train et validation"
      ]
    },
    {
      "cell_type": "code",
      "metadata": {
        "id": "WpwYQbDTY2qj",
        "colab_type": "code",
        "colab": {}
      },
      "source": [
        "IMAGES_COUNT = 7722\n",
        "BATCH_SIZE = batch_size\n",
        "\n",
        "train_data_gen = train_data_gen.shuffle(IMAGES_COUNT).batch(BATCH_SIZE).repeat()\n",
        "\n",
        "train_data_gen = iter(train_dataset)   # créer un itérateur à partir du dataset\n",
        "image_batch, label_batch = np.asarray(next(train_dataset_gen))  # extraire un batch\n"
      ],
      "execution_count": 0,
      "outputs": []
    },
    {
      "cell_type": "code",
      "metadata": {
        "id": "gwxD-Utme452",
        "colab_type": "code",
        "colab": {}
      },
      "source": [
        "import sklearn.model_selection as sk\n",
        "\n",
        "trainsize = int(2*(batch_size/3))\n",
        "testsize = batch_size - trainsize\n",
        "\n",
        "train_data_gen, val_data_gen = sk.train_test_split(image_batch,\n",
        "                                                    label_batch,\n",
        "                                                    test_size=0.33,\n",
        "                                                    random_state=2)"
      ],
      "execution_count": 0,
      "outputs": []
    },
    {
      "cell_type": "markdown",
      "metadata": {
        "id": "9Nh6hrEantJN",
        "colab_type": "text"
      },
      "source": [
        "# Modèle **SANS AUGMENTATION DE DONNÉES**"
      ]
    },
    {
      "cell_type": "markdown",
      "metadata": {
        "id": "gfF17369oYAc",
        "colab_type": "text"
      },
      "source": [
        "## Création et compilation du modèle"
      ]
    },
    {
      "cell_type": "code",
      "metadata": {
        "id": "E4EIIbOZnvkV",
        "colab_type": "code",
        "colab": {}
      },
      "source": [
        "model = Sequential([\n",
        "    Conv2D(16, 3, padding='same', activation='relu', input_shape=(IMG_HEIGHT, IMG_WIDTH ,3)),\n",
        "    MaxPooling2D(),\n",
        "    Conv2D(32, 3, padding='same', activation='relu'),\n",
        "    MaxPooling2D(),\n",
        "    Conv2D(64, 3, padding='same', activation='relu'),\n",
        "    MaxPooling2D(),\n",
        "    Flatten(),\n",
        "    Dense(512, activation='relu'),\n",
        "    Dense(1, activation='sigmoid')\n",
        "])"
      ],
      "execution_count": 0,
      "outputs": []
    },
    {
      "cell_type": "code",
      "metadata": {
        "id": "YprkuQL5nzro",
        "colab_type": "code",
        "colab": {}
      },
      "source": [
        "model.compile(optimizer='adam',\n",
        "              loss='binary_crossentropy',\n",
        "              metrics=['accuracy'])"
      ],
      "execution_count": 0,
      "outputs": []
    },
    {
      "cell_type": "markdown",
      "metadata": {
        "id": "d1z0KDo1n2pf",
        "colab_type": "text"
      },
      "source": [
        "Résumé du modèle"
      ]
    },
    {
      "cell_type": "code",
      "metadata": {
        "id": "ZAM_r9-Pn69z",
        "colab_type": "code",
        "outputId": "4f566636-86db-4fab-c4e4-57066affd1f2",
        "colab": {
          "base_uri": "https://localhost:8080/",
          "height": 469
        }
      },
      "source": [
        "model.summary()"
      ],
      "execution_count": 0,
      "outputs": [
        {
          "output_type": "stream",
          "text": [
            "Model: \"sequential_2\"\n",
            "_________________________________________________________________\n",
            "Layer (type)                 Output Shape              Param #   \n",
            "=================================================================\n",
            "conv2d_6 (Conv2D)            (None, 128, 128, 16)      448       \n",
            "_________________________________________________________________\n",
            "max_pooling2d_6 (MaxPooling2 (None, 64, 64, 16)        0         \n",
            "_________________________________________________________________\n",
            "conv2d_7 (Conv2D)            (None, 64, 64, 32)        4640      \n",
            "_________________________________________________________________\n",
            "max_pooling2d_7 (MaxPooling2 (None, 32, 32, 32)        0         \n",
            "_________________________________________________________________\n",
            "conv2d_8 (Conv2D)            (None, 32, 32, 64)        18496     \n",
            "_________________________________________________________________\n",
            "max_pooling2d_8 (MaxPooling2 (None, 16, 16, 64)        0         \n",
            "_________________________________________________________________\n",
            "flatten_2 (Flatten)          (None, 16384)             0         \n",
            "_________________________________________________________________\n",
            "dense_4 (Dense)              (None, 512)               8389120   \n",
            "_________________________________________________________________\n",
            "dense_5 (Dense)              (None, 1)                 513       \n",
            "=================================================================\n",
            "Total params: 8,413,217\n",
            "Trainable params: 8,413,217\n",
            "Non-trainable params: 0\n",
            "_________________________________________________________________\n"
          ],
          "name": "stdout"
        }
      ]
    },
    {
      "cell_type": "markdown",
      "metadata": {
        "id": "MxeauFPioH1B",
        "colab_type": "text"
      },
      "source": [
        "## Entrainement du modèle"
      ]
    },
    {
      "cell_type": "code",
      "metadata": {
        "id": "2If7aGyfoKYJ",
        "colab_type": "code",
        "outputId": "402a8d52-52b6-40cd-9f73-e3ec10735a80",
        "colab": {
          "base_uri": "https://localhost:8080/",
          "height": 451
        }
      },
      "source": [
        "history = model.fit_generator(\n",
        "    train_data_gen,\n",
        "    steps_per_epoch=total_train // batch_size,\n",
        "    epochs=epochs,\n",
        "    validation_data=val_data_gen,\n",
        "    validation_steps=total_val // batch_size\n",
        ")"
      ],
      "execution_count": 0,
      "outputs": [
        {
          "output_type": "stream",
          "text": [
            "WARNING:tensorflow:sample_weight modes were coerced from\n",
            "  ...\n",
            "    to  \n",
            "  ['...']\n",
            "WARNING:tensorflow:sample_weight modes were coerced from\n",
            "  ...\n",
            "    to  \n",
            "  ['...']\n",
            "Train for 57 steps, validate for 28 steps\n",
            "Epoch 1/8\n",
            "57/57 [==============================] - 7s 116ms/step - loss: 0.0248 - accuracy: 0.9928 - val_loss: 0.5307 - val_accuracy: 0.8775\n",
            "Epoch 2/8\n",
            "57/57 [==============================] - 7s 116ms/step - loss: 0.0095 - accuracy: 0.9983 - val_loss: 0.6142 - val_accuracy: 0.8789\n",
            "Epoch 3/8\n",
            "57/57 [==============================] - 7s 117ms/step - loss: 0.0034 - accuracy: 0.9997 - val_loss: 0.6537 - val_accuracy: 0.8775\n",
            "Epoch 4/8\n",
            "57/57 [==============================] - 7s 115ms/step - loss: 0.0019 - accuracy: 0.9999 - val_loss: 0.6504 - val_accuracy: 0.8862\n",
            "Epoch 5/8\n",
            "57/57 [==============================] - 7s 116ms/step - loss: 0.0012 - accuracy: 0.9999 - val_loss: 0.6674 - val_accuracy: 0.8845\n",
            "Epoch 6/8\n",
            "57/57 [==============================] - 7s 115ms/step - loss: 7.8598e-04 - accuracy: 1.0000 - val_loss: 0.6978 - val_accuracy: 0.8836\n",
            "Epoch 7/8\n",
            "57/57 [==============================] - 7s 116ms/step - loss: 6.2044e-04 - accuracy: 1.0000 - val_loss: 0.7081 - val_accuracy: 0.8836\n",
            "Epoch 8/8\n",
            "57/57 [==============================] - 7s 117ms/step - loss: 4.7082e-04 - accuracy: 1.0000 - val_loss: 0.7190 - val_accuracy: 0.8831\n"
          ],
          "name": "stdout"
        }
      ]
    },
    {
      "cell_type": "markdown",
      "metadata": {
        "id": "n1R3fxJLoNQD",
        "colab_type": "text"
      },
      "source": [
        "## Résulats"
      ]
    },
    {
      "cell_type": "code",
      "metadata": {
        "id": "of3yi5CRoObn",
        "colab_type": "code",
        "outputId": "155ea1e8-fdb7-48e6-b6d4-7a65cbf5ffec",
        "colab": {
          "base_uri": "https://localhost:8080/",
          "height": 499
        }
      },
      "source": [
        "acc = history.history['accuracy']\n",
        "val_acc = history.history['val_accuracy']\n",
        "\n",
        "loss = history.history['loss']\n",
        "val_loss = history.history['val_loss']\n",
        "\n",
        "epochs_range = range(epochs)\n",
        "\n",
        "plt.figure(figsize=(8, 8))\n",
        "plt.subplot(1, 2, 1)\n",
        "plt.plot(epochs_range, acc, label='Training Accuracy')\n",
        "plt.plot(epochs_range, val_acc, label='Validation Accuracy')\n",
        "plt.legend(loc='lower right')\n",
        "plt.title('Training and Validation Accuracy')\n",
        "\n",
        "plt.subplot(1, 2, 2)\n",
        "plt.plot(epochs_range, loss, label='Training Loss')\n",
        "plt.plot(epochs_range, val_loss, label='Validation Loss')\n",
        "plt.legend(loc='upper right')\n",
        "plt.title('Training and Validation Loss')\n",
        "plt.show()"
      ],
      "execution_count": 0,
      "outputs": [
        {
          "output_type": "display_data",
          "data": {
            "image/png": "[encoded data removed]",
            "text/plain": [
              "<Figure size 576x576 with 2 Axes>"
            ]
          },
          "metadata": {
            "tags": []
          }
        }
      ]
    },
    {
      "cell_type": "markdown",
      "metadata": {
        "id": "jw0jBydsod_a",
        "colab_type": "text"
      },
      "source": [
        "# Modèle **AVEC AUGMENTATION DE DONNÉES**"
      ]
    },
    {
      "cell_type": "markdown",
      "metadata": {
        "id": "DzpWjaDVolNK",
        "colab_type": "text"
      },
      "source": [
        "## Augmentation des données"
      ]
    },
    {
      "cell_type": "code",
      "metadata": {
        "id": "WRF4CeCpotGt",
        "colab_type": "code",
        "outputId": "96ffcbb9-f53a-4f7e-ff1f-68db88469439",
        "colab": {
          "base_uri": "https://localhost:8080/",
          "height": 34
        }
      },
      "source": [
        "image_gen = ImageDataGenerator(rescale=1./255, horizontal_flip=True)\n",
        "\n",
        "train_data_gen = image_gen.flow_from_directory(batch_size=batch_size,\n",
        "                                               directory=train_dir,\n",
        "                                               shuffle=True,\n",
        "                                               target_size=(IMG_HEIGHT, IMG_WIDTH))"
      ],
      "execution_count": 0,
      "outputs": [
        {
          "output_type": "stream",
          "text": [
            "Found 7392 images belonging to 2 classes.\n"
          ],
          "name": "stdout"
        }
      ]
    },
    {
      "cell_type": "code",
      "metadata": {
        "id": "3B0rnpNcokeZ",
        "colab_type": "code",
        "outputId": "ffb9b96c-a3d0-46ff-f2f6-dfc6b2843b10",
        "colab": {
          "base_uri": "https://localhost:8080/",
          "height": 34
        }
      },
      "source": [
        "image_gen = ImageDataGenerator(rescale=1./255, rotation_range=45)\n",
        "\n",
        "train_data_gen = image_gen.flow_from_directory(batch_size=batch_size,\n",
        "                                               directory=train_dir,\n",
        "                                               shuffle=True,\n",
        "                                               target_size=(IMG_HEIGHT, IMG_WIDTH))"
      ],
      "execution_count": 0,
      "outputs": [
        {
          "output_type": "stream",
          "text": [
            "Found 7392 images belonging to 2 classes.\n"
          ],
          "name": "stdout"
        }
      ]
    },
    {
      "cell_type": "code",
      "metadata": {
        "id": "b3PzJyhyo5AG",
        "colab_type": "code",
        "outputId": "65ab217d-5fbf-4e75-947b-44ebf8e0b70e",
        "colab": {
          "base_uri": "https://localhost:8080/",
          "height": 34
        }
      },
      "source": [
        "image_gen = ImageDataGenerator(rescale=1./255, zoom_range=0.5)\n",
        "\n",
        "train_data_gen = image_gen.flow_from_directory(batch_size=batch_size,\n",
        "                                               directory=train_dir,\n",
        "                                               shuffle=True,\n",
        "                                               target_size=(IMG_HEIGHT, IMG_WIDTH))"
      ],
      "execution_count": 0,
      "outputs": [
        {
          "output_type": "stream",
          "text": [
            "Found 7392 images belonging to 2 classes.\n"
          ],
          "name": "stdout"
        }
      ]
    },
    {
      "cell_type": "code",
      "metadata": {
        "id": "6tYlTEvoo-WX",
        "colab_type": "code",
        "colab": {}
      },
      "source": [
        "image_gen_train = ImageDataGenerator(\n",
        "                    rescale=1./255,\n",
        "                    rotation_range=45,\n",
        "                    width_shift_range=.15,\n",
        "                    height_shift_range=.15,\n",
        "                    horizontal_flip=True,\n",
        "                    zoom_range=0.5\n",
        "                    )"
      ],
      "execution_count": 0,
      "outputs": []
    },
    {
      "cell_type": "markdown",
      "metadata": {
        "id": "isyYTfeUpIC7",
        "colab_type": "text"
      },
      "source": [
        "## Générateur de validation"
      ]
    },
    {
      "cell_type": "code",
      "metadata": {
        "id": "QhbZezltpByh",
        "colab_type": "code",
        "outputId": "b7161997-d5ea-4cfb-a10e-33e53c110764",
        "colab": {
          "base_uri": "https://localhost:8080/",
          "height": 34
        }
      },
      "source": [
        "image_gen_val = ImageDataGenerator(rescale=1./255)\n",
        "\n",
        "val_data_gen = image_gen_val.flow_from_directory(batch_size=batch_size,\n",
        "                                                 directory=validation_dir,\n",
        "                                                 target_size=(IMG_HEIGHT, IMG_WIDTH),\n",
        "                                                 class_mode='binary')"
      ],
      "execution_count": 0,
      "outputs": [
        {
          "output_type": "stream",
          "text": [
            "Found 3641 images belonging to 2 classes.\n"
          ],
          "name": "stdout"
        }
      ]
    },
    {
      "cell_type": "markdown",
      "metadata": {
        "id": "YAZ18v-kpRRH",
        "colab_type": "text"
      },
      "source": [
        "## Création et compilation du modèle"
      ]
    },
    {
      "cell_type": "code",
      "metadata": {
        "id": "QDUYMN-3pVIt",
        "colab_type": "code",
        "colab": {}
      },
      "source": [
        "model_new = Sequential([\n",
        "    Conv2D(16, 3, padding='same', activation='relu', \n",
        "           input_shape=(IMG_HEIGHT, IMG_WIDTH ,3)),\n",
        "    MaxPooling2D(),\n",
        "    Dropout(0.2),\n",
        "    Conv2D(32, 3, padding='same', activation='relu'),\n",
        "    MaxPooling2D(),\n",
        "    Conv2D(64, 3, padding='same', activation='relu'),\n",
        "    MaxPooling2D(),\n",
        "    Dropout(0.2),\n",
        "    Flatten(),\n",
        "    Dense(512, activation='relu'),\n",
        "    Dense(1, activation='sigmoid')\n",
        "])"
      ],
      "execution_count": 0,
      "outputs": []
    },
    {
      "cell_type": "code",
      "metadata": {
        "id": "8lQDr4VppWZv",
        "colab_type": "code",
        "outputId": "d63df9ac-2450-4f83-9789-ba01c5405cda",
        "colab": {
          "base_uri": "https://localhost:8080/",
          "height": 538
        }
      },
      "source": [
        "model_new.compile(optimizer='adam',\n",
        "              loss='binary_crossentropy',\n",
        "              metrics=['accuracy'])\n",
        "\n",
        "model_new.summary()"
      ],
      "execution_count": 0,
      "outputs": [
        {
          "output_type": "stream",
          "text": [
            "Model: \"sequential_3\"\n",
            "_________________________________________________________________\n",
            "Layer (type)                 Output Shape              Param #   \n",
            "=================================================================\n",
            "conv2d_9 (Conv2D)            (None, 128, 128, 16)      448       \n",
            "_________________________________________________________________\n",
            "max_pooling2d_9 (MaxPooling2 (None, 64, 64, 16)        0         \n",
            "_________________________________________________________________\n",
            "dropout (Dropout)            (None, 64, 64, 16)        0         \n",
            "_________________________________________________________________\n",
            "conv2d_10 (Conv2D)           (None, 64, 64, 32)        4640      \n",
            "_________________________________________________________________\n",
            "max_pooling2d_10 (MaxPooling (None, 32, 32, 32)        0         \n",
            "_________________________________________________________________\n",
            "conv2d_11 (Conv2D)           (None, 32, 32, 64)        18496     \n",
            "_________________________________________________________________\n",
            "max_pooling2d_11 (MaxPooling (None, 16, 16, 64)        0         \n",
            "_________________________________________________________________\n",
            "dropout_1 (Dropout)          (None, 16, 16, 64)        0         \n",
            "_________________________________________________________________\n",
            "flatten_3 (Flatten)          (None, 16384)             0         \n",
            "_________________________________________________________________\n",
            "dense_6 (Dense)              (None, 512)               8389120   \n",
            "_________________________________________________________________\n",
            "dense_7 (Dense)              (None, 1)                 513       \n",
            "=================================================================\n",
            "Total params: 8,413,217\n",
            "Trainable params: 8,413,217\n",
            "Non-trainable params: 0\n",
            "_________________________________________________________________\n"
          ],
          "name": "stdout"
        }
      ]
    },
    {
      "cell_type": "markdown",
      "metadata": {
        "id": "yyaDDszapz0H",
        "colab_type": "text"
      },
      "source": [
        "## Entrainement du modèle"
      ]
    },
    {
      "cell_type": "code",
      "metadata": {
        "id": "vY1rq112p1ib",
        "colab_type": "code",
        "outputId": "c3e0cce3-5a13-48a8-d04e-5a7fecab2c16",
        "colab": {
          "base_uri": "https://localhost:8080/",
          "height": 451
        }
      },
      "source": [
        "history = model_new.fit_generator(\n",
        "    train_data_gen,\n",
        "    steps_per_epoch=total_train // batch_size,\n",
        "    epochs=epochs,\n",
        "    validation_data=val_data_gen,\n",
        "    validation_steps=total_val // batch_size\n",
        ")"
      ],
      "execution_count": 0,
      "outputs": [
        {
          "output_type": "stream",
          "text": [
            "WARNING:tensorflow:sample_weight modes were coerced from\n",
            "  ...\n",
            "    to  \n",
            "  ['...']\n",
            "WARNING:tensorflow:sample_weight modes were coerced from\n",
            "  ...\n",
            "    to  \n",
            "  ['...']\n",
            "Train for 57 steps, validate for 28 steps\n",
            "Epoch 1/8\n",
            "57/57 [==============================] - 29s 507ms/step - loss: 0.7806 - accuracy: 0.5000 - val_loss: 0.6931 - val_accuracy: 0.5156\n",
            "Epoch 2/8\n",
            "57/57 [==============================] - 28s 500ms/step - loss: 0.6931 - accuracy: 0.5000 - val_loss: 0.6931 - val_accuracy: 0.5011\n",
            "Epoch 3/8\n",
            "57/57 [==============================] - 29s 503ms/step - loss: 0.6931 - accuracy: 0.5000 - val_loss: 0.6932 - val_accuracy: 0.5011\n",
            "Epoch 4/8\n",
            "57/57 [==============================] - 29s 502ms/step - loss: 0.6931 - accuracy: 0.5000 - val_loss: 0.6932 - val_accuracy: 0.4950\n",
            "Epoch 5/8\n",
            "57/57 [==============================] - 28s 499ms/step - loss: 0.6931 - accuracy: 0.5000 - val_loss: 0.6932 - val_accuracy: 0.4900\n",
            "Epoch 6/8\n",
            "57/57 [==============================] - 29s 500ms/step - loss: 0.6931 - accuracy: 0.5000 - val_loss: 0.6932 - val_accuracy: 0.4883\n",
            "Epoch 7/8\n",
            "57/57 [==============================] - 28s 499ms/step - loss: 0.6931 - accuracy: 0.5000 - val_loss: 0.6931 - val_accuracy: 0.4902\n",
            "Epoch 8/8\n",
            "57/57 [==============================] - 29s 502ms/step - loss: 0.6931 - accuracy: 0.5000 - val_loss: 0.6931 - val_accuracy: 0.4947\n"
          ],
          "name": "stdout"
        }
      ]
    },
    {
      "cell_type": "markdown",
      "metadata": {
        "id": "hk5BMOOMp3hS",
        "colab_type": "text"
      },
      "source": [
        "## Résulats"
      ]
    },
    {
      "cell_type": "code",
      "metadata": {
        "id": "hZEGzXlWp4ya",
        "colab_type": "code",
        "outputId": "b65f94c1-03a6-4146-f4b9-fe365b7c2b3e",
        "colab": {
          "base_uri": "https://localhost:8080/",
          "height": 499
        }
      },
      "source": [
        "acc = history.history['accuracy']\n",
        "val_acc = history.history['val_accuracy']\n",
        "\n",
        "loss = history.history['loss']\n",
        "val_loss = history.history['val_loss']\n",
        "\n",
        "epochs_range = range(epochs)\n",
        "\n",
        "plt.figure(figsize=(8, 8))\n",
        "plt.subplot(1, 2, 1)\n",
        "plt.plot(epochs_range, acc, label='Training Accuracy')\n",
        "plt.plot(epochs_range, val_acc, label='Validation Accuracy')\n",
        "plt.legend(loc='lower right')\n",
        "plt.title('Training and Validation Accuracy')\n",
        "\n",
        "plt.subplot(1, 2, 2)\n",
        "plt.plot(epochs_range, loss, label='Training Loss')\n",
        "plt.plot(epochs_range, val_loss, label='Validation Loss')\n",
        "plt.legend(loc='upper right')\n",
        "plt.title('Training and Validation Loss')\n",
        "plt.show()"
      ],
      "execution_count": 0,
      "outputs": [
        {
          "output_type": "display_data",
          "data": {
            "image/png": "[encoded data removed]",
            "text/plain": [
              "<Figure size 576x576 with 2 Axes>"
            ]
          },
          "metadata": {
            "tags": []
          }
        }
      ]
    }
  ]
}